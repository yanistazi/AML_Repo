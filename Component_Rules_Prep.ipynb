{
 "cells": [
  {
   "cell_type": "code",
   "execution_count": 2,
   "metadata": {},
   "outputs": [],
   "source": [
    "library(dplyr)\n",
    "library(stringr)"
   ]
  },
  {
   "cell_type": "markdown",
   "metadata": {},
   "source": [
    "# FINAL RULES FOR PRINCIPAL COMPONENT"
   ]
  },
  {
   "cell_type": "code",
   "execution_count": 3,
   "metadata": {},
   "outputs": [],
   "source": [
    "list_no_events <- readRDS(\"data/list_no_events.rds\")\n",
    "factors <- c(\"ZRSR2\",\"U2AF1_p.S34\",\"U2AF1_p.Q157\",\"SRSF2\",\"SF3B1\",\"ASXL1\",\"STAG2\",\"BCOR\",\"RUNX1\",\"EZH2\",\"MLL\",\"PHF6\",\"SF1\",\"NF1\",\"CUX1\",\"SETBP1\")\n",
    "Trisomies_list <- c(\"add_8\",\"add_11\",\"add_13\",\"add_21\",\"add_22\")\n",
    "deletions_list <- c('del_20','del_3','del_5','del_7','del_9','del_12','del_13','del_16','del_17','del_18','minusy')\n",
    "# List patient with OS endpoint (2113)\n",
    "list_patients_with_OS <- readRDS(\"data/list_patients_with_OS.rds\")\n",
    "\n",
    "df <- read.table(\"data/bdp_with_comp.tsv\")\n",
    "\n",
    "df <- df[list_patients_with_OS,]\n"
   ]
  },
  {
   "cell_type": "code",
   "execution_count": 4,
   "metadata": {},
   "outputs": [
    {
     "data": {
      "text/plain": [
       "\n",
       "    CEBPA_bi   DNMT3A-IDH      inv(16)       inv(3)         mNOS    no events \n",
       "          38           19           92           17          124           46 \n",
       "        NPM1        sAML1        sAML2        t(11)     t(15;17)       t(6;9) \n",
       "         674          100          501           75           19           16 \n",
       "     t(8;21) TP53-complex    Trisomies          WT1 \n",
       "         100          208           44           40 "
      ]
     },
     "metadata": {},
     "output_type": "display_data"
    }
   ],
   "source": [
    "# Patient IDS without any mutation (46)\n",
    "list_no_events <- readRDS(\"data/list_no_events.rds\")\n",
    "\n",
    "# Patient IDS with complex karyotype, no TP53 and no deletions \n",
    "list_patients_complex_no_deletions_and_no_TP53 <- readRDS(\"data/list_patients_complex_no_deletions_and_no_TP53_training_cohort.rds\")\n",
    "\n",
    "# sAML class defining events\n",
    "factors <- c(\"ZRSR2\",\"U2AF1_p.S34\",\"U2AF1_p.Q157\",\"SRSF2\",\"SF3B1\",\"ASXL1\",\"STAG2\",\"BCOR\",\"RUNX1\",\"EZH2\",\"MLL\",\"PHF6\",\"SF1\",\"NF1\",\"CUX1\",\"SETBP1\")\n",
    "\n",
    "# class defining trisomies events\n",
    "Trisomies_list <- c(\"add_8\",\"add_11\",\"add_13\",\"add_21\",\"add_22\")\n",
    "\n",
    "# Classification begins :\n",
    "df$principal_component <- \"\"\n",
    "\n",
    "df[df$NPM1==1,\"principal_component\"] <- \"NPM1\"\n",
    "\n",
    "df[df$inv_16==1 & df$principal_component==\"\",\"principal_component\"] <- \"inv(16)\"\n",
    "\n",
    "\n",
    "df[df$t_8_21==1 & df$principal_component==\"\",\"principal_component\"] <- \"t(8;21)\"\n",
    "\n",
    "df[df$t_15_17==1 & df$principal_component==\"\",\"principal_component\"] <- \"t(15;17)\"\n",
    "\n",
    "df[(df$TP53==1 | df$complex==1) & !(rownames(df) %in% list_patients_complex_no_deletions_and_no_TP53) \n",
    "   & df$principal_component==\"\",\"principal_component\"] <- \"TP53-complex\"\n",
    "\n",
    "df[df$inv_3==1 & df$principal_component==\"\",\"principal_component\"] <- \"inv(3)\"\n",
    "\n",
    "df[ (df$t_9_11==1 | df$t_v_11==1) & df$principal_component==\"\",\"principal_component\"] <- \"t(11)\"\n",
    "\n",
    "df[df$t_6_9==1 & df$principal_component==\"\",\"principal_component\"] <- \"t(6;9)\"\n",
    "\n",
    "df[rowSums(df[,factors])>1 & df$principal_component==\"\",\"principal_component\"] <- \"sAML2\"\n",
    "\n",
    "df[df$CEBPA_bi==1 & df$principal_component==\"\",\"principal_component\"] <- \"CEBPA_bi\"\n",
    "\n",
    "df[rowSums(df[,factors])==1 & df$principal_component==\"\",\"principal_component\"] <- \"sAML1\"\n",
    "\n",
    "df[rowSums(df[,factors])==1 & df$principal_component==\"sAML1\" & (df$DNMT3A==1 | df$TET2==1) ,\"principal_component\"] <- \"sAML2\"\n",
    "\n",
    "df[df$WT1==1 & df$principal_component==\"\",\"principal_component\"] <- \"WT1\"\n",
    "\n",
    "# one of main Trisomies (+8,+11,+13,+21,+22) OR patients that are complex, no TP53 and no deletions.\n",
    "df[(rowSums(df[,Trisomies_list])>0 | rownames(df) %in% list_patients_complex_no_deletions_and_no_TP53)\n",
    "   & df$principal_component==\"\",\"principal_component\"] <- \"Trisomies\"\n",
    "\n",
    "df[(df$DNMT3A==1 & (df$IDH1==1 | df$IDH2_p.R140==1 | df$IDH2_p.R172==1)) & df$principal_component==\"\",\"principal_component\"] <- \"DNMT3A-IDH\"\n",
    "\n",
    "df[rownames(df) %in% list_no_events,\"principal_component\"] <- \"no events\"\n",
    "\n",
    "df[df$principal_component==\"\",\"principal_component\"] <- \"mNOS\"\n",
    "\n",
    "table(df$principal_component)"
   ]
  }
 ],
 "metadata": {
  "kernelspec": {
   "display_name": "R",
   "language": "R",
   "name": "ir"
  },
  "language_info": {
   "codemirror_mode": "r",
   "file_extension": ".r",
   "mimetype": "text/x-r-source",
   "name": "R",
   "pygments_lexer": "r",
   "version": "4.1.0"
  }
 },
 "nbformat": 4,
 "nbformat_minor": 4
}
